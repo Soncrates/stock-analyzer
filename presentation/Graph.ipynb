{
 "cells": [
  {
   "cell_type": "markdown",
   "metadata": {},
   "source": [
    "ret       0.259406\n",
    "stdev     0.141263\n",
    "sharpe    1.836329\n",
    "HD        0.160262\n",
    "PYPL      0.163804\n",
    "SBUX      0.151671\n",
    "UNH       0.169210\n",
    "WEC       0.355054\n",
    "Name: 1834, dtype: float64\n",
    "ret       0.239737\n",
    "stdev     0.135932\n",
    "sharpe    1.763657\n",
    "HD        0.158094\n",
    "PYPL      0.137120\n",
    "SBUX      0.092738\n",
    "UNH       0.051022\n",
    "WEC       0.561026\n",
    "Name: 1672, dtype: float64\n"
   ]
  },
  {
   "cell_type": "code",
   "execution_count": 17,
   "metadata": {},
   "outputs": [
    {
     "ename": "ImportError",
     "evalue": "cannot import name cbook",
     "output_type": "error",
     "traceback": [
      "\u001b[0;31m---------------------------------------------------------------------------\u001b[0m",
      "\u001b[0;31mImportError\u001b[0m                               Traceback (most recent call last)",
      "\u001b[0;32m<ipython-input-17-087253127d4b>\u001b[0m in \u001b[0;36m<module>\u001b[0;34m()\u001b[0m\n\u001b[1;32m      2\u001b[0m \u001b[0;32mfrom\u001b[0m \u001b[0mpandas\u001b[0m \u001b[0;32mimport\u001b[0m \u001b[0mDataFrame\u001b[0m \u001b[0;32mas\u001b[0m \u001b[0mdf\u001b[0m\u001b[0;34m\u001b[0m\u001b[0m\n\u001b[1;32m      3\u001b[0m \u001b[0;31m#import matplotlib.pyplot as plt\u001b[0m\u001b[0;34m\u001b[0m\u001b[0;34m\u001b[0m\u001b[0m\n\u001b[0;32m----> 4\u001b[0;31m \u001b[0;32mimport\u001b[0m \u001b[0mseaborn\u001b[0m \u001b[0;32mas\u001b[0m \u001b[0msns\u001b[0m\u001b[0;34m\u001b[0m\u001b[0m\n\u001b[0m\u001b[1;32m      5\u001b[0m \u001b[0;34m\u001b[0m\u001b[0m\n\u001b[1;32m      6\u001b[0m \u001b[0;32mdef\u001b[0m \u001b[0mload_file\u001b[0m\u001b[0;34m(\u001b[0m\u001b[0mfilename\u001b[0m\u001b[0;34m)\u001b[0m \u001b[0;34m:\u001b[0m\u001b[0;34m\u001b[0m\u001b[0m\n",
      "\u001b[0;32m/usr/lib/python2.7/dist-packages/seaborn/__init__.py\u001b[0m in \u001b[0;36m<module>\u001b[0;34m()\u001b[0m\n\u001b[1;32m      1\u001b[0m \u001b[0;31m# Capture the original matplotlib rcParams\u001b[0m\u001b[0;34m\u001b[0m\u001b[0;34m\u001b[0m\u001b[0m\n\u001b[0;32m----> 2\u001b[0;31m \u001b[0;32mimport\u001b[0m \u001b[0mmatplotlib\u001b[0m \u001b[0;32mas\u001b[0m \u001b[0mmpl\u001b[0m\u001b[0;34m\u001b[0m\u001b[0m\n\u001b[0m\u001b[1;32m      3\u001b[0m \u001b[0m_orig_rc_params\u001b[0m \u001b[0;34m=\u001b[0m \u001b[0mmpl\u001b[0m\u001b[0;34m.\u001b[0m\u001b[0mrcParams\u001b[0m\u001b[0;34m.\u001b[0m\u001b[0mcopy\u001b[0m\u001b[0;34m(\u001b[0m\u001b[0;34m)\u001b[0m\u001b[0;34m\u001b[0m\u001b[0m\n\u001b[1;32m      4\u001b[0m \u001b[0;34m\u001b[0m\u001b[0m\n\u001b[1;32m      5\u001b[0m \u001b[0;31m# Import seaborn objects\u001b[0m\u001b[0;34m\u001b[0m\u001b[0;34m\u001b[0m\u001b[0m\n",
      "\u001b[0;32m/home/sonc/.local/lib/python2.7/site-packages/matplotlib/__init__.py\u001b[0m in \u001b[0;36m<module>\u001b[0;34m()\u001b[0m\n\u001b[1;32m    124\u001b[0m \u001b[0;31m# cbook must import matplotlib only within function\u001b[0m\u001b[0;34m\u001b[0m\u001b[0;34m\u001b[0m\u001b[0m\n\u001b[1;32m    125\u001b[0m \u001b[0;31m# definitions, so it is safe to import from it here.\u001b[0m\u001b[0;34m\u001b[0m\u001b[0;34m\u001b[0m\u001b[0m\n\u001b[0;32m--> 126\u001b[0;31m \u001b[0;32mfrom\u001b[0m \u001b[0;34m.\u001b[0m \u001b[0;32mimport\u001b[0m \u001b[0mcbook\u001b[0m\u001b[0;34m\u001b[0m\u001b[0m\n\u001b[0m\u001b[1;32m    127\u001b[0m from matplotlib.cbook import (\n\u001b[1;32m    128\u001b[0m     _backports, mplDeprecation, dedent, get_label, sanitize_sequence)\n",
      "\u001b[0;31mImportError\u001b[0m: cannot import name cbook"
     ]
    }
   ],
   "source": [
    "   import pandas as pd\n",
    "   from pandas import DataFrame as df\n",
    "   #import matplotlib.pyplot as plt\n",
    "   import seaborn as sns\n",
    "\n",
    "   def load_file(filename) :\n",
    "      data = pd.read_pickle(filename)\n",
    "      target = 'Stock'\n",
    "      if target in data :\n",
    "         name = data.pop(target)\n",
    "         name = name[0]\n",
    "         return name, data\n",
    "      name = filename.split(\"/\")[-1]\n",
    "      name = name.split(\".\")[0]\n",
    "      return name, data\n",
    "   def main(file_list, stock_list) :\n",
    "       for path in file_list :\n",
    "           name, ret = load_file(path)\n",
    "           if name not in stock_list :\n",
    "              del ret\n",
    "              continue\n",
    "           yield name, ret \n",
    "\n",
    "   from glob import glob\n",
    "   import os,sys\n",
    "\n",
    "   pwd = os.getcwd()\n",
    "   ini_list = glob('{}/*.ini'.format(pwd))\n",
    "   file_list = glob('{}/historical_prices/*pkl'.format(pwd))\n",
    "   file_list = sorted(file_list)\n",
    "   spy_list = filter(lambda x : 'SPY' in x, file_list)\n",
    "   spy = spy_list[0]\n",
    "   print spy\n",
    "    \n",
    "   stock_list = [\"HD\", \"PYPL\", \"SBUX\", \"UNH\", \"WEC\"]\n",
    "   target_01 = 'Adj Close'\n",
    "   stocks = {'SPY' : spy }\n",
    "   for name, data in main(file_list, stock_list) :\n",
    "       stocks[name] = data\n",
    "   for key in stocks.keys() :\n",
    "       data = stocks[key]\n",
    "       returns = data[target_01]\n",
    "       returns = returns.pct_change()\n",
    "       returns.plot(label=name)\n",
    "       print returns.description()\n",
    "   target_02 = 'Volume'\n",
    "   for key in stocks.keys() :\n",
    "       data = stocks[key]\n",
    "       volume = data[target_01]\n",
    "       volume = volume.pct_change()\n",
    "       volume.plot(label=name)\n",
    "       print returns.description()\n"
   ]
  },
  {
   "cell_type": "code",
   "execution_count": null,
   "metadata": {},
   "outputs": [],
   "source": []
  },
  {
   "cell_type": "code",
   "execution_count": null,
   "metadata": {},
   "outputs": [],
   "source": []
  }
 ],
 "metadata": {
  "kernelspec": {
   "display_name": "Python 2",
   "language": "python",
   "name": "python2"
  },
  "language_info": {
   "codemirror_mode": {
    "name": "ipython",
    "version": 2
   },
   "file_extension": ".py",
   "mimetype": "text/x-python",
   "name": "python",
   "nbconvert_exporter": "python",
   "pygments_lexer": "ipython2",
   "version": "2.7.15rc1"
  }
 },
 "nbformat": 4,
 "nbformat_minor": 2
}
